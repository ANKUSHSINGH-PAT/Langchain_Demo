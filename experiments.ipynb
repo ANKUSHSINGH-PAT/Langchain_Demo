{
 "cells": [
  {
   "cell_type": "code",
   "execution_count": null,
   "id": "2a53f12d",
   "metadata": {},
   "outputs": [
    {
     "name": "stdout",
     "output_type": "stream",
     "text": [
      "c:\\Users\\AnkushAnkush2\\AppData\\Local\\Programs\\Python\\Python312\\python.exe\n"
     ]
    }
   ],
   "source": [
    "# import sys\n",
    "# print(sys.executable)"
   ]
  },
  {
   "cell_type": "code",
   "execution_count": null,
   "id": "92c4bfc6",
   "metadata": {},
   "outputs": [
    {
     "name": "stdout",
     "output_type": "stream",
     "text": [
      "C:\\Users\\AnkushAnkush2\\AppData\\Local\\Programs\\Python\\Python312\\Scripts\\pip.exe\n"
     ]
    }
   ],
   "source": [
    "# !where pip"
   ]
  },
  {
   "cell_type": "code",
   "execution_count": null,
   "id": "8c68325c",
   "metadata": {},
   "outputs": [
    {
     "name": "stdout",
     "output_type": "stream",
     "text": [
      "Requirement already satisfied: langchain in c:\\users\\ankushankush2\\desktop\\python\\langchain\\langchain_tutorials\\venv\\lib\\site-packages (0.3.25)\n",
      "Requirement already satisfied: langchain-core<1.0.0,>=0.3.58 in c:\\users\\ankushankush2\\desktop\\python\\langchain\\langchain_tutorials\\venv\\lib\\site-packages (from langchain) (0.3.63)\n",
      "Requirement already satisfied: langchain-text-splitters<1.0.0,>=0.3.8 in c:\\users\\ankushankush2\\desktop\\python\\langchain\\langchain_tutorials\\venv\\lib\\site-packages (from langchain) (0.3.8)\n",
      "Requirement already satisfied: langsmith<0.4,>=0.1.17 in c:\\users\\ankushankush2\\desktop\\python\\langchain\\langchain_tutorials\\venv\\lib\\site-packages (from langchain) (0.3.45)\n",
      "Requirement already satisfied: pydantic<3.0.0,>=2.7.4 in c:\\users\\ankushankush2\\desktop\\python\\langchain\\langchain_tutorials\\venv\\lib\\site-packages (from langchain) (2.11.5)\n",
      "Requirement already satisfied: SQLAlchemy<3,>=1.4 in c:\\users\\ankushankush2\\desktop\\python\\langchain\\langchain_tutorials\\venv\\lib\\site-packages (from langchain) (2.0.41)\n",
      "Requirement already satisfied: requests<3,>=2 in c:\\users\\ankushankush2\\desktop\\python\\langchain\\langchain_tutorials\\venv\\lib\\site-packages (from langchain) (2.32.3)\n",
      "Requirement already satisfied: PyYAML>=5.3 in c:\\users\\ankushankush2\\desktop\\python\\langchain\\langchain_tutorials\\venv\\lib\\site-packages (from langchain) (6.0.2)\n",
      "Requirement already satisfied: tenacity!=8.4.0,<10.0.0,>=8.1.0 in c:\\users\\ankushankush2\\desktop\\python\\langchain\\langchain_tutorials\\venv\\lib\\site-packages (from langchain-core<1.0.0,>=0.3.58->langchain) (9.1.2)\n",
      "Requirement already satisfied: jsonpatch<2.0,>=1.33 in c:\\users\\ankushankush2\\desktop\\python\\langchain\\langchain_tutorials\\venv\\lib\\site-packages (from langchain-core<1.0.0,>=0.3.58->langchain) (1.33)\n",
      "Requirement already satisfied: packaging<25,>=23.2 in c:\\users\\ankushankush2\\desktop\\python\\langchain\\langchain_tutorials\\venv\\lib\\site-packages (from langchain-core<1.0.0,>=0.3.58->langchain) (24.2)\n",
      "Requirement already satisfied: typing-extensions>=4.7 in c:\\users\\ankushankush2\\desktop\\python\\langchain\\langchain_tutorials\\venv\\lib\\site-packages (from langchain-core<1.0.0,>=0.3.58->langchain) (4.14.0)\n",
      "Requirement already satisfied: httpx<1,>=0.23.0 in c:\\users\\ankushankush2\\desktop\\python\\langchain\\langchain_tutorials\\venv\\lib\\site-packages (from langsmith<0.4,>=0.1.17->langchain) (0.28.1)\n",
      "Requirement already satisfied: orjson<4.0.0,>=3.9.14 in c:\\users\\ankushankush2\\desktop\\python\\langchain\\langchain_tutorials\\venv\\lib\\site-packages (from langsmith<0.4,>=0.1.17->langchain) (3.10.18)\n",
      "Requirement already satisfied: requests-toolbelt<2.0.0,>=1.0.0 in c:\\users\\ankushankush2\\desktop\\python\\langchain\\langchain_tutorials\\venv\\lib\\site-packages (from langsmith<0.4,>=0.1.17->langchain) (1.0.0)\n",
      "Requirement already satisfied: zstandard<0.24.0,>=0.23.0 in c:\\users\\ankushankush2\\desktop\\python\\langchain\\langchain_tutorials\\venv\\lib\\site-packages (from langsmith<0.4,>=0.1.17->langchain) (0.23.0)\n",
      "Requirement already satisfied: annotated-types>=0.6.0 in c:\\users\\ankushankush2\\desktop\\python\\langchain\\langchain_tutorials\\venv\\lib\\site-packages (from pydantic<3.0.0,>=2.7.4->langchain) (0.7.0)\n",
      "Requirement already satisfied: pydantic-core==2.33.2 in c:\\users\\ankushankush2\\desktop\\python\\langchain\\langchain_tutorials\\venv\\lib\\site-packages (from pydantic<3.0.0,>=2.7.4->langchain) (2.33.2)\n",
      "Requirement already satisfied: typing-inspection>=0.4.0 in c:\\users\\ankushankush2\\desktop\\python\\langchain\\langchain_tutorials\\venv\\lib\\site-packages (from pydantic<3.0.0,>=2.7.4->langchain) (0.4.1)\n",
      "Requirement already satisfied: charset-normalizer<4,>=2 in c:\\users\\ankushankush2\\desktop\\python\\langchain\\langchain_tutorials\\venv\\lib\\site-packages (from requests<3,>=2->langchain) (3.4.2)\n",
      "Requirement already satisfied: idna<4,>=2.5 in c:\\users\\ankushankush2\\desktop\\python\\langchain\\langchain_tutorials\\venv\\lib\\site-packages (from requests<3,>=2->langchain) (3.10)\n",
      "Requirement already satisfied: urllib3<3,>=1.21.1 in c:\\users\\ankushankush2\\desktop\\python\\langchain\\langchain_tutorials\\venv\\lib\\site-packages (from requests<3,>=2->langchain) (2.4.0)\n",
      "Requirement already satisfied: certifi>=2017.4.17 in c:\\users\\ankushankush2\\desktop\\python\\langchain\\langchain_tutorials\\venv\\lib\\site-packages (from requests<3,>=2->langchain) (2025.4.26)\n",
      "Requirement already satisfied: greenlet>=1 in c:\\users\\ankushankush2\\desktop\\python\\langchain\\langchain_tutorials\\venv\\lib\\site-packages (from SQLAlchemy<3,>=1.4->langchain) (3.2.2)\n",
      "Requirement already satisfied: anyio in c:\\users\\ankushankush2\\desktop\\python\\langchain\\langchain_tutorials\\venv\\lib\\site-packages (from httpx<1,>=0.23.0->langsmith<0.4,>=0.1.17->langchain) (4.9.0)\n",
      "Requirement already satisfied: httpcore==1.* in c:\\users\\ankushankush2\\desktop\\python\\langchain\\langchain_tutorials\\venv\\lib\\site-packages (from httpx<1,>=0.23.0->langsmith<0.4,>=0.1.17->langchain) (1.0.9)\n",
      "Requirement already satisfied: h11>=0.16 in c:\\users\\ankushankush2\\desktop\\python\\langchain\\langchain_tutorials\\venv\\lib\\site-packages (from httpcore==1.*->httpx<1,>=0.23.0->langsmith<0.4,>=0.1.17->langchain) (0.16.0)\n",
      "Requirement already satisfied: jsonpointer>=1.9 in c:\\users\\ankushankush2\\desktop\\python\\langchain\\langchain_tutorials\\venv\\lib\\site-packages (from jsonpatch<2.0,>=1.33->langchain-core<1.0.0,>=0.3.58->langchain) (3.0.0)\n",
      "Requirement already satisfied: sniffio>=1.1 in c:\\users\\ankushankush2\\desktop\\python\\langchain\\langchain_tutorials\\venv\\lib\\site-packages (from anyio->httpx<1,>=0.23.0->langsmith<0.4,>=0.1.17->langchain) (1.3.1)\n"
     ]
    },
    {
     "name": "stderr",
     "output_type": "stream",
     "text": [
      "\n",
      "[notice] A new release of pip is available: 24.0 -> 25.1.1\n",
      "[notice] To update, run: C:\\Users\\AnkushAnkush2\\Desktop\\Python\\Langchain\\Langchain_Tutorials\\venv\\Scripts\\python.exe -m pip install --upgrade pip\n"
     ]
    }
   ],
   "source": [
    "# !pip install langchain"
   ]
  },
  {
   "cell_type": "code",
   "execution_count": 16,
   "id": "81b88570",
   "metadata": {},
   "outputs": [],
   "source": [
    "from langchain.document_loaders import TextLoader"
   ]
  },
  {
   "cell_type": "code",
   "execution_count": 26,
   "id": "8a1b5c4c",
   "metadata": {},
   "outputs": [
    {
     "name": "stdout",
     "output_type": "stream",
     "text": [
      "Exists: True\n"
     ]
    }
   ],
   "source": [
    "import os\n",
    "\n",
    "file_path = r\"C:\\Users\\AnkushAnkush2\\Desktop\\Python\\Langchain\\Langchain_Tutorials\\Langchain_Demo\\DP-100-Master-Cheat-Sheet.pdf\"\n",
    "print(\"Exists:\", os.path.isfile(file_path))"
   ]
  },
  {
   "cell_type": "code",
   "execution_count": 28,
   "id": "fac6c228",
   "metadata": {},
   "outputs": [
    {
     "name": "stdout",
     "output_type": "stream",
     "text": [
      "Loaded 44 pages\n",
      "1 | P a g e  \n",
      " \n",
      "SKILLCERTPRO \n",
      "Azure Data Science Options \n",
      " Azure ML Studio -> Drag and drop. Understand for the exam. No code is needed \n",
      "there. Training and Deployment. Complete ML environment. Ideal for learning and \n",
      "beginner data scientists. \n",
      " Azure Databricks for Big Data - based on Spark. Massive scale with spark. User \n",
      "friendly portal. Dynamic scale. Secure collaboration (secured workspace). DS tools. \n",
      "You can use different languages in the same notebook. \n",
      "o Core artifacts: Jobs, librarie\n"
     ]
    }
   ],
   "source": [
    "from langchain.document_loaders import PyPDFLoader\n",
    "\n",
    "# file_path = r\"Langchain_Demo\\DP-100-Master-Cheat-Sheet.pdf\"\n",
    "loader = PyPDFLoader(file_path)\n",
    "documents = loader.load()\n",
    "\n",
    "print(f\"Loaded {len(documents)} pages\")\n",
    "print(documents[0].page_content[:500])"
   ]
  },
  {
   "cell_type": "code",
   "execution_count": 1,
   "id": "b80da5c6",
   "metadata": {},
   "outputs": [
    {
     "name": "stdout",
     "output_type": "stream",
     "text": [
      "LangChain version:\n"
     ]
    }
   ],
   "source": [
    "print(\"LangChain version:\")"
   ]
  },
  {
   "cell_type": "code",
   "execution_count": 35,
   "id": "f97ba75b",
   "metadata": {},
   "outputs": [
    {
     "name": "stdout",
     "output_type": "stream",
     "text": [
      "\n",
      " IPL 2025 | Live Cricket Score, Schedule, Latest News, Stats & Videos | Cricbuzz.com  ✖Live ScoresScheduleArchivesNewsAll Stories  Premium Editorials Latest NewsTopicsSpotlightOpinionsSpecialsStats & AnalysisInterviewsLive BlogsHarsha BhogleSeries  Indian Premier League 2025 West Indies tour of England, 2025 Major League Cricket 2025 T20 Blast 2025 India tour of England, 2025 West Indies tour of India, 2025 Australia tour of West Indies, 2025 Bangladesh tour of Sri Lanka, 2025 ICC World Test Ch\n"
     ]
    }
   ],
   "source": [
    "import requests\n",
    "from bs4 import BeautifulSoup\n",
    "from langchain.schema import Document\n",
    "\n",
    "# Step 1: Download the webpage\n",
    "url = \"https://www.cricbuzz.com/\"\n",
    "response = requests.get(url)\n",
    "soup = BeautifulSoup(response.text, \"html.parser\")\n",
    "\n",
    "# Step 2: Extract clean text from relevant parts\n",
    "text = soup.get_text()\n",
    "\n",
    "# print(text)\n",
    "\n",
    "# Optional: Create LangChain-compatible document\n",
    "doc = Document(page_content=text, metadata={\"source\": url})\n",
    "\n",
    "print(doc.page_content[:500])  # Show first 500 characters\n"
   ]
  },
  {
   "cell_type": "code",
   "execution_count": null,
   "id": "89ceb24f",
   "metadata": {},
   "outputs": [
    {
     "name": "stdout",
     "output_type": "stream",
     "text": [
      "Split into 36 chunks\n",
      "- Women More World Test Championship World Cup Super League Photos Mobile AppsCareersContact Us  {{premiumScreenName}}     My Account Sign Out MATCHESRCB vs PBKS - RCB WonLKK vs DGD - LiveNMP vs SMF - LiveMSCMR vs TKMNE - LiveMDX vs KENT - PreviewAllLive NowTodayINTERNATIONALWest Indies tour of EnglandWest Indies vs England3rd ODIEngland vs West Indies1st T20IJersey v Guernsey, 2025Jersey vs Guernsey1st MatchJersey vs Guernsey2nd MatchJersey vs Guernsey3rd MatchSerbia v Slovenia, 2025Serbia vs\n"
     ]
    }
   ],
   "source": [
    "from langchain.text_splitter import RecursiveCharacterTextSplitter\n",
    "\n",
    "splitter = RecursiveCharacterTextSplitter(chunk_size=500, chunk_overlap=50)\n",
    "chunks = splitter.split_documents([doc])\n",
    "\n",
    "print(f\"Split into {len(chunks)} chunks\")\n",
    "print(chunks[1].page_content)"
   ]
  },
  {
   "cell_type": "code",
   "execution_count": 39,
   "id": "4903513d",
   "metadata": {},
   "outputs": [
    {
     "name": "stdout",
     "output_type": "stream",
     "text": [
      "Chunk 1:\n",
      "IPL 2025 | Live Cricket Score, Schedule, Latest News, Stats & Videos | Cricbuzz.com  ✖Live ScoresSch\n",
      "----------------------------------------\n",
      "Chunk 2:\n",
      "Bangladesh tour of Sri Lanka, 2025 ICC World Test Championship Final 2025 India tour of Bangladesh, \n",
      "----------------------------------------\n",
      "Chunk 3:\n",
      "- Women More World Test Championship World Cup Super League Photos Mobile AppsCareersContact Us  {{p\n",
      "----------------------------------------\n"
     ]
    }
   ],
   "source": [
    "for i in range(3):\n",
    "    print(f\"Chunk {i+1}:\")\n",
    "    print(chunks[i].page_content[:100])  # Print first 100 characters of each chunk\n",
    "    print(\"-\" * 40)  # Separator for readability"
   ]
  },
  {
   "cell_type": "code",
   "execution_count": null,
   "id": "51c670e0",
   "metadata": {},
   "outputs": [],
   "source": []
  }
 ],
 "metadata": {
  "kernelspec": {
   "display_name": "Python 3",
   "language": "python",
   "name": "python3"
  },
  "language_info": {
   "codemirror_mode": {
    "name": "ipython",
    "version": 3
   },
   "file_extension": ".py",
   "mimetype": "text/x-python",
   "name": "python",
   "nbconvert_exporter": "python",
   "pygments_lexer": "ipython3",
   "version": "3.12.4"
  }
 },
 "nbformat": 4,
 "nbformat_minor": 5
}
